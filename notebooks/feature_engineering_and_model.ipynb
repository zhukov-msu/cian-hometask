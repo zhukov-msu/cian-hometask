{
 "cells": [
  {
   "cell_type": "code",
   "execution_count": 1,
   "metadata": {},
   "outputs": [],
   "source": [
    "import pandas as pd\n",
    "import numpy as np\n",
    "import matplotlib.pyplot as plt\n",
    "import pandas_profiling as pp\n",
    "# from ipyleaflet import Map, basemaps, basemap_to_tiles, \n",
    "import folium\n",
    "from geopy import distance\n",
    "import seaborn as sns\n",
    "%matplotlib inline"
   ]
  },
  {
   "cell_type": "code",
   "execution_count": 2,
   "metadata": {},
   "outputs": [],
   "source": [
    "import warnings\n",
    "warnings.filterwarnings('ignore')\n",
    "\n",
    "from tqdm import tqdm_notebook, tqdm_pandas,trange\n",
    "from tqdm.auto import tqdm\n",
    "# import psycopg2"
   ]
  },
  {
   "cell_type": "code",
   "execution_count": 3,
   "metadata": {},
   "outputs": [],
   "source": [
    "# Text imports\n",
    "\n",
    "import Levenshtein\n",
    "from fuzzywuzzy import fuzz\n",
    "# import nltk\n",
    "# from nltk.tokenize import word_tokenize\n",
    "import re\n",
    "import gensim\n",
    "\n",
    "from scipy.sparse import csr_matrix\n",
    "import sparse_dot_topn.sparse_dot_topn as ct\n",
    "from sklearn.feature_extraction.text import TfidfVectorizer\n",
    "from scipy.spatial.distance import cosine\n",
    "from sklearn.metrics.pairwise import cosine_similarity"
   ]
  },
  {
   "cell_type": "markdown",
   "metadata": {},
   "source": [
    "# 0. Read data"
   ]
  },
  {
   "cell_type": "markdown",
   "metadata": {},
   "source": [
    "Сохранил в пикл для удобства в ноутбуке `explore.ipynb`"
   ]
  },
  {
   "cell_type": "code",
   "execution_count": 4,
   "metadata": {},
   "outputs": [],
   "source": [
    "df_pairs = pd.read_pickle('../data/df_pairs.pkl')\n",
    "df_offers = pd.read_pickle('../data/df_offers.pkl')\n",
    "df_geo = pd.read_pickle('../data/df_geo.pkl')\n",
    "df_building = pd.read_pickle('../data/df_building.pkl')\n",
    "df_bargainterms = pd.read_pickle('../data/df_bargainterms.pkl')"
   ]
  },
  {
   "cell_type": "markdown",
   "metadata": {},
   "source": [
    "# 1. Geo"
   ]
  },
  {
   "cell_type": "markdown",
   "metadata": {},
   "source": [
    "### preproc"
   ]
  },
  {
   "cell_type": "code",
   "execution_count": 5,
   "metadata": {},
   "outputs": [],
   "source": [
    "df_geo['userInput'] = df_geo['userInput'].str.replace('Россия, ', '')\n",
    "df_geo['userInput'] = df_geo['userInput'].str.strip()"
   ]
  },
  {
   "cell_type": "markdown",
   "metadata": {},
   "source": [
    "### feats"
   ]
  },
  {
   "cell_type": "code",
   "execution_count": 6,
   "metadata": {},
   "outputs": [],
   "source": [
    "# расстояние левенштейна между адресами\n",
    "geo_addr_lev1 = [\n",
    "    Levenshtein.distance(a,b) for a,b in zip(\n",
    "        df_geo.loc[df_pairs['offer_id1']]['userInput'],\n",
    "        df_geo.loc[df_pairs['offer_id2']]['userInput']\n",
    "    )\n",
    "]\n",
    "\n",
    "\n",
    "# расстояние левенштейна чуть по-другому\n",
    "geo_addr_lev2 = [\n",
    "    Levenshtein.distance(''.join(a), ''.join(b))  for a,b in zip(\n",
    "        df_geo.loc[df_pairs['offer_id1']]['address'].apply(lambda addr: [x['name'] for x in addr]),\n",
    "        df_geo.loc[df_pairs['offer_id2']]['address'].apply(lambda addr: [x['name'] for x in addr])\n",
    "    )\n",
    "]\n",
    "\n",
    "# то же самое с fuzzywuzzy\n",
    "geo_addr_fw = [\n",
    "    fuzz.ratio(a,b)/100 for a,b in zip(\n",
    "        df_geo.loc[df_pairs['offer_id1']]['userInput'],\n",
    "        df_geo.loc[df_pairs['offer_id2']]['userInput']\n",
    "    )\n",
    "]"
   ]
  },
  {
   "cell_type": "code",
   "execution_count": 7,
   "metadata": {
    "scrolled": true
   },
   "outputs": [],
   "source": [
    "# расстояние между гео-координатами\n",
    "\n",
    "geo_distances = [\n",
    "    distance.geodesic(a,b).km for a,b in zip(\n",
    "        df_geo.loc[df_pairs['offer_id1']][['lat', 'lon']].values,\n",
    "        df_geo.loc[df_pairs['offer_id2']][['lat', 'lon']].values\n",
    "    )\n",
    "]"
   ]
  },
  {
   "cell_type": "code",
   "execution_count": 8,
   "metadata": {},
   "outputs": [],
   "source": [
    "# еще одна метрика близости в адресе\n",
    "\n",
    "geo_addr_percent_intersect = [\n",
    "    len(np.intersect1d(a, b)) / max(len(a), len(b)) for a,b in zip(\n",
    "        df_geo.loc[df_pairs['offer_id1']]['address'].apply(lambda addr: [x['name'] for x in addr]),\n",
    "        df_geo.loc[df_pairs['offer_id2']]['address'].apply(lambda addr: [x['name'] for x in addr])\n",
    "    )\n",
    "]"
   ]
  },
  {
   "cell_type": "code",
   "execution_count": 9,
   "metadata": {},
   "outputs": [],
   "source": [
    "# собираем в одно\n",
    "\n",
    "df_feats_geo_all = pd.DataFrame(\n",
    "    np.array([geo_addr_lev1, geo_addr_lev2, geo_addr_percent_intersect, geo_addr_fw, geo_distances]).T,\n",
    "    columns=[\"geo_addr_lev1\", \"geo_addr_lev2\", \"geo_addr_percent_intersect\", \"geo_addr_fw\", \"geo_distances\"]\n",
    ")"
   ]
  },
  {
   "cell_type": "markdown",
   "metadata": {},
   "source": [
    "# 2. Text"
   ]
  },
  {
   "cell_type": "markdown",
   "metadata": {},
   "source": [
    "### preproc"
   ]
  },
  {
   "cell_type": "code",
   "execution_count": 10,
   "metadata": {},
   "outputs": [],
   "source": [
    "import spacy\n",
    "nlp = spacy.load('../spacy-ru/ru2/', disable=['ner', 'parser']) # disabling Named Entity Recognition for speed\n",
    "\n",
    "cleaning = lambda doc: [token.lemma_ for token in doc if not token.is_stop]"
   ]
  },
  {
   "cell_type": "code",
   "execution_count": 11,
   "metadata": {},
   "outputs": [],
   "source": [
    "brief_cleaning = [re.sub(\"[^A-Za-zА-Яа-я']+\", ' ', str(row)).lower() for row in df_offers['description']]\n",
    "txt = [cleaning(doc) for doc in nlp.pipe(brief_cleaning, batch_size=5000, n_threads=-1)]\n",
    "# txt = [cleaning(doc) for doc in docs]"
   ]
  },
  {
   "cell_type": "raw",
   "metadata": {},
   "source": [
    "df_offers['description_preproc'] = df_offers['description'].apply(lambda x: np.unique(re.findall('(\\w+)', x.lower())))"
   ]
  },
  {
   "cell_type": "code",
   "execution_count": 12,
   "metadata": {},
   "outputs": [],
   "source": [
    "stop_words = [\"c\",\"а\",\"алло\",\"без\",\"белый\",\"близко\",\"более\",\"больше\",\"большой\",\"будем\",\"будет\",\"будете\",\"будешь\",\"будто\",\"буду\",\"будут\",\"будь\",\"бы\",\"бывает\",\"бывь\",\"был\",\"была\",\"были\",\"было\",\"быть\",\"в\",\"важная\",\"важное\",\"важные\",\"важный\",\"вам\",\"вами\",\"вас\",\"ваш\",\"ваша\",\"ваше\",\"ваши\",\"вверх\",\"вдали\",\"вдруг\",\"ведь\",\"везде\",\"вернуться\",\"весь\",\"вечер\",\"взгляд\",\"взять\",\"вид\",\"видел\",\"видеть\",\"вместе\",\"вне\",\"вниз\",\"внизу\",\"во\",\"вода\",\"война\",\"вокруг\",\"вон\",\"вообще\",\"вопрос\",\"восемнадцатый\",\"восемнадцать\",\"восемь\",\"восьмой\",\"вот\",\"впрочем\",\"времени\",\"время\",\"все\",\"все еще\",\"всегда\",\"всего\",\"всем\",\"всеми\",\"всему\",\"всех\",\"всею\",\"всю\",\"всюду\",\"вся\",\"всё\",\"второй\",\"вы\",\"выйти\",\"г\",\"где\",\"главный\",\"глаз\",\"говорил\",\"говорит\",\"говорить\",\"год\",\"года\",\"году\",\"голова\",\"голос\",\"город\",\"да\",\"давать\",\"давно\",\"даже\",\"далекий\",\"далеко\",\"дальше\",\"даром\",\"дать\",\"два\",\"двадцатый\",\"двадцать\",\"две\",\"двенадцатый\",\"двенадцать\",\"дверь\",\"двух\",\"девятнадцатый\",\"девятнадцать\",\"девятый\",\"девять\",\"действительно\",\"дел\",\"делал\",\"делать\",\"делаю\",\"дело\",\"день\",\"деньги\",\"десятый\",\"десять\",\"для\",\"до\",\"довольно\",\"долго\",\"должен\",\"должно\",\"должный\",\"дом\",\"дорога\",\"друг\",\"другая\",\"другие\",\"других\",\"друго\",\"другое\",\"другой\",\"думать\",\"душа\",\"е\",\"его\",\"ее\",\"ей\",\"ему\",\"если\",\"есть\",\"еще\",\"ещё\",\"ею\",\"её\",\"ж\",\"ждать\",\"же\",\"жена\",\"женщина\",\"жизнь\",\"жить\",\"за\",\"занят\",\"занята\",\"занято\",\"заняты\",\"затем\",\"зато\",\"зачем\",\"здесь\",\"земля\",\"знать\",\"значит\",\"значить\",\"и\",\"иди\",\"идти\",\"из\",\"или\",\"им\",\"имеет\",\"имел\",\"именно\",\"иметь\",\"ими\",\"имя\",\"иногда\",\"их\",\"к\",\"каждая\",\"каждое\",\"каждые\",\"каждый\",\"кажется\",\"казаться\",\"как\",\"какая\",\"какой\",\"кем\",\"книга\",\"когда\",\"кого\",\"ком\",\"комната\",\"кому\",\"конец\",\"конечно\",\"которая\",\"которого\",\"которой\",\"которые\",\"который\",\"которых\",\"кроме\",\"кругом\",\"кто\",\"куда\",\"лежать\",\"лет\",\"ли\",\"лицо\",\"лишь\",\"лучше\",\"любить\",\"люди\",\"м\",\"маленький\",\"мало\",\"мать\",\"машина\",\"между\",\"меля\",\"менее\",\"меньше\",\"меня\",\"место\",\"миллионов\",\"мимо\",\"минута\",\"мир\",\"мира\",\"мне\",\"много\",\"многочисленная\",\"многочисленное\",\"многочисленные\",\"многочисленный\",\"мной\",\"мною\",\"мог\",\"могу\",\"могут\",\"мож\",\"может\",\"может быть\",\"можно\",\"можхо\",\"мои\",\"мой\",\"мор\",\"москва\",\"мочь\",\"моя\",\"моё\",\"мы\",\"на\",\"наверху\",\"над\",\"надо\",\"назад\",\"наиболее\",\"найти\",\"наконец\",\"нам\",\"нами\",\"народ\",\"нас\",\"начала\",\"начать\",\"наш\",\"наша\",\"наше\",\"наши\",\"не\",\"него\",\"недавно\",\"недалеко\",\"нее\",\"ней\",\"некоторый\",\"нельзя\",\"нем\",\"немного\",\"нему\",\"непрерывно\",\"нередко\",\"несколько\",\"нет\",\"нею\",\"неё\",\"ни\",\"нибудь\",\"ниже\",\"низко\",\"никакой\",\"никогда\",\"никто\",\"никуда\",\"ним\",\"ними\",\"них\",\"ничего\",\"ничто\",\"но\",\"новый\",\"нога\",\"ночь\",\"ну\",\"нужно\",\"нужный\",\"нх\",\"о\",\"об\",\"оба\",\"обычно\",\"один\",\"одиннадцатый\",\"одиннадцать\",\"однажды\",\"однако\",\"одного\",\"одной\",\"оказаться\",\"окно\",\"около\",\"он\",\"она\",\"они\",\"оно\",\"опять\",\"особенно\",\"остаться\",\"от\",\"ответить\",\"отец\",\"откуда\",\"отовсюду\",\"отсюда\",\"очень\",\"первый\",\"перед\",\"писать\",\"плечо\",\"по\",\"под\",\"подойди\",\"подумать\",\"пожалуйста\",\"позже\",\"пойти\",\"пока\",\"пол\",\"получить\",\"помнить\",\"понимать\",\"понять\",\"пор\",\"пора\",\"после\",\"последний\",\"посмотреть\",\"посреди\",\"потом\",\"потому\",\"почему\",\"почти\",\"правда\",\"прекрасно\",\"при\",\"про\",\"просто\",\"против\",\"процентов\",\"путь\",\"пятнадцатый\",\"пятнадцать\",\"пятый\",\"пять\",\"работа\",\"работать\",\"раз\",\"разве\",\"рано\",\"раньше\",\"ребенок\",\"решить\",\"россия\",\"рука\",\"русский\",\"ряд\",\"рядом\",\"с\",\"с кем\",\"сам\",\"сама\",\"сами\",\"самим\",\"самими\",\"самих\",\"само\",\"самого\",\"самой\",\"самом\",\"самому\",\"саму\",\"самый\",\"свет\",\"свое\",\"своего\",\"своей\",\"свои\",\"своих\",\"свой\",\"свою\",\"сделать\",\"сеаой\",\"себе\",\"себя\",\"сегодня\",\"седьмой\",\"сейчас\",\"семнадцатый\",\"семнадцать\",\"семь\",\"сидеть\",\"сила\",\"сих\",\"сказал\",\"сказала\",\"сказать\",\"сколько\",\"слишком\",\"слово\",\"случай\",\"смотреть\",\"сначала\",\"снова\",\"со\",\"собой\",\"собою\",\"советский\",\"совсем\",\"спасибо\",\"спросить\",\"сразу\",\"стал\",\"старый\",\"стать\",\"стол\",\"сторона\",\"стоять\",\"страна\",\"суть\",\"считать\",\"т\",\"та\",\"так\",\"такая\",\"также\",\"таки\",\"такие\",\"такое\",\"такой\",\"там\",\"твои\",\"твой\",\"твоя\",\"твоё\",\"те\",\"тебе\",\"тебя\",\"тем\",\"теми\",\"теперь\",\"тех\",\"то\",\"тобой\",\"тобою\",\"товарищ\",\"тогда\",\"того\",\"тоже\",\"только\",\"том\",\"тому\",\"тот\",\"тою\",\"третий\",\"три\",\"тринадцатый\",\"тринадцать\",\"ту\",\"туда\",\"тут\",\"ты\",\"тысяч\",\"у\",\"увидеть\",\"уж\",\"уже\",\"улица\",\"уметь\",\"утро\",\"хороший\",\"хорошо\",\"хотел бы\",\"хотеть\",\"хоть\",\"хотя\",\"хочешь\",\"час\",\"часто\",\"часть\",\"чаще\",\"чего\",\"человек\",\"чем\",\"чему\",\"через\",\"четвертый\",\"четыре\",\"четырнадцатый\",\"четырнадцать\",\"что\",\"чтоб\",\"чтобы\",\"чуть\",\"шестнадцатый\",\"шестнадцать\",\"шестой\",\"шесть\",\"эта\",\"эти\",\"этим\",\"этими\",\"этих\",\"это\",\"этого\",\"этой\",\"этом\",\"этому\",\"этот\",\"эту\",\"я\",\"являюсь\"]"
   ]
  },
  {
   "cell_type": "code",
   "execution_count": 13,
   "metadata": {},
   "outputs": [],
   "source": [
    "df_offers['txt_processed'] = [' '.join(token) for token in txt]"
   ]
  },
  {
   "cell_type": "markdown",
   "metadata": {},
   "source": [
    "#### неудавшаяся попытка сделать поиск по латинским символам в описании"
   ]
  },
  {
   "cell_type": "raw",
   "metadata": {},
   "source": [
    "def letter_hack(text):\n",
    "    lst = text.split(' ')\n",
    "    words_cnt = 0\n",
    "    if lst:\n",
    "        for w in lst:\n",
    "            if w:\n",
    "                perc = sum([len(x) for x in re.findall('[a-z]+', w)]) / len(w)\n",
    "                if perc < 1 and perc > 0:\n",
    "#                     print(w)\n",
    "                    words_cnt += 1\n",
    "                \n",
    "    return words_cnt/len(lst)\n",
    "\n",
    "df_offers['bad_words_percentage'] = df_offers.txt_processed.apply(lambda text: letter_hack(text))\n",
    "\n",
    "import seaborn as sns\n",
    "sns.boxplot(df_offers['bad_words_percentage'])\n",
    "\n",
    "bad_letters_1 = df_offers.loc[df_pairs['offer_id1']]['bad_words_percentage'].values\n",
    "bad_letters_2 = df_offers.loc[df_pairs['offer_id2']]['bad_words_percentage'].values"
   ]
  },
  {
   "cell_type": "markdown",
   "metadata": {},
   "source": [
    "### w2v  features"
   ]
  },
  {
   "cell_type": "markdown",
   "metadata": {},
   "source": [
    "строим док2век на собственном обученном w2v"
   ]
  },
  {
   "cell_type": "raw",
   "metadata": {},
   "source": [
    "!pip install pymorphy2==0.8\n",
    "!pip install spacy==2.1.9"
   ]
  },
  {
   "cell_type": "raw",
   "metadata": {},
   "source": [
    "!git clone -b v2.1 https://github.com/buriy/spacy-ru.git"
   ]
  },
  {
   "cell_type": "code",
   "execution_count": 14,
   "metadata": {},
   "outputs": [],
   "source": [
    "w2vmodel_my = gensim.models.KeyedVectors.load_word2vec_format('../models/wv300cian.model')"
   ]
  },
  {
   "cell_type": "code",
   "execution_count": 15,
   "metadata": {},
   "outputs": [],
   "source": [
    "\n",
    "from scipy.spatial.distance import cosine\n",
    "\n",
    "def sent2vec(s, w2vmodel):\n",
    "    \n",
    "    featureVec = np.zeros((300,), dtype=\"float32\")\n",
    "    nwords = 0\n",
    "                               \n",
    "    for w in s.split(' '):                                   \n",
    "        try:                                       \n",
    "            nwords = nwords + 1                                       \n",
    "            featureVec = np.add(featureVec, w2vmodel[w])\n",
    "        except:                                       \n",
    "            continue                               \n",
    "        # averaging                               \n",
    "        if nwords > 0:                                   \n",
    "            featureVec = np.divide(featureVec, nwords)\n",
    "    return featureVec\n",
    "\n",
    "def get_w2v_vectors(list_text1, list_text2, w2vmodel): \n",
    "    '''\n",
    "    Computing the word2vec vector representation of list of sentences\n",
    "    @param list_text1 : first list of sentences\n",
    "    @param list_text2 : second list of sentences \n",
    "    '''\n",
    "    print(\"Computing first vectors…\")\n",
    "    text1_vectors = np.zeros((len(list_text1), 300))\n",
    "    for i, q in tqdm(enumerate(list_text1)):\n",
    "        text1_vectors[i, :] = sent2vec(q, w2vmodel)\n",
    "    text2_vectors = np.zeros((len(list_text2), 300))\n",
    "    for i, q in tqdm(enumerate(list_text2)):\n",
    "        text2_vectors[i, :] = sent2vec(q, w2vmodel)\n",
    "    return text1_vectors, text2_vectors\n",
    "\n",
    "def cosine_similarity_my(list_vec1, list_vec2):\n",
    "    '''\n",
    "    Computing the cosine similarity between two vector representation\n",
    "    @param  list_text1  :   first list of sentences\n",
    "    @param  list_text2  :   second list of sentences \n",
    "    '''\n",
    "    cosine_dist = [cosine(x, y) for (x, y) in zip(np.nan_to_num(list_vec1), np.nan_to_num(list_vec2))]\n",
    "    cosine_sim = [(1 - dist) for dist in cosine_dist]\n",
    "    return cosine_sim"
   ]
  },
  {
   "cell_type": "code",
   "execution_count": 16,
   "metadata": {
    "scrolled": true
   },
   "outputs": [
    {
     "name": "stdout",
     "output_type": "stream",
     "text": [
      "Computing first vectors…\n"
     ]
    },
    {
     "data": {
      "application/vnd.jupyter.widget-view+json": {
       "model_id": "802ea86820e140cc8e503452896a2172",
       "version_major": 2,
       "version_minor": 0
      },
      "text/plain": [
       "HBox(children=(FloatProgress(value=1.0, bar_style='info', max=1.0), HTML(value='')))"
      ]
     },
     "metadata": {},
     "output_type": "display_data"
    },
    {
     "name": "stdout",
     "output_type": "stream",
     "text": [
      "\n"
     ]
    },
    {
     "data": {
      "application/vnd.jupyter.widget-view+json": {
       "model_id": "cfbbd536e7e04d5f9cc567568c9de394",
       "version_major": 2,
       "version_minor": 0
      },
      "text/plain": [
       "HBox(children=(FloatProgress(value=1.0, bar_style='info', max=1.0), HTML(value='')))"
      ]
     },
     "metadata": {},
     "output_type": "display_data"
    },
    {
     "name": "stdout",
     "output_type": "stream",
     "text": [
      "\n"
     ]
    }
   ],
   "source": [
    "vectors = get_w2v_vectors(\n",
    "    df_offers.loc[df_pairs['offer_id1']]['txt_processed'].values,\n",
    "    df_offers.loc[df_pairs['offer_id2']]['txt_processed'].values,\n",
    "    w2vmodel_my\n",
    ")"
   ]
  },
  {
   "cell_type": "code",
   "execution_count": 17,
   "metadata": {},
   "outputs": [],
   "source": [
    "txt_similarity_feature = cosine_similarity_my(*vectors)"
   ]
  },
  {
   "cell_type": "markdown",
   "metadata": {},
   "source": [
    "### text stats"
   ]
  },
  {
   "cell_type": "markdown",
   "metadata": {},
   "source": [
    "Здесь простые количественные признаки, часть в итоге выборшено"
   ]
  },
  {
   "cell_type": "code",
   "execution_count": 18,
   "metadata": {},
   "outputs": [
    {
     "data": {
      "text/plain": [
       "<matplotlib.axes._subplots.AxesSubplot at 0x7f51e4207090>"
      ]
     },
     "execution_count": 18,
     "metadata": {},
     "output_type": "execute_result"
    },
    {
     "data": {
      "image/png": "[encoded data removed]",
      "text/plain": [
       "<Figure size 432x288 with 1 Axes>"
      ]
     },
     "metadata": {
      "needs_background": "light"
     },
     "output_type": "display_data"
    }
   ],
   "source": [
    "sns.distplot(df_offers.description.str.len())"
   ]
  },
  {
   "cell_type": "code",
   "execution_count": 19,
   "metadata": {},
   "outputs": [],
   "source": [
    "df_offers['eng_percentage_letters'] = \\\n",
    "df_offers['description'].apply(\n",
    "    lambda x: \n",
    "    np.mean([1 if l in 'abcdefghijklmnopqrstuvwxyzABCDEFGHIJKLMNOPQRSTUVWXYZ' else 0 for l in x]))\n",
    "\n",
    "df_offers['dots_count'] = \\\n",
    "df_offers['description'].apply(\n",
    "    lambda x: \n",
    "    np.sum([1 if l in '.,\\\\/#!$%^&*;:{}=-_`~()' else 0 for l in x]))"
   ]
  },
  {
   "cell_type": "code",
   "execution_count": 20,
   "metadata": {},
   "outputs": [],
   "source": [
    "text_len = [\n",
    "    min(a,b)/max(a,b) for a,b in zip(\n",
    "        df_offers.loc[df_pairs['offer_id1']]['description'].str.len().values,\n",
    "        df_offers.loc[df_pairs['offer_id2']]['description'].str.len().values\n",
    "    )\n",
    "]\n",
    "\n",
    "eng_perc = [\n",
    "    1 if max(a,b)==0 else min(a,b)/max(a,b) for a,b in zip(\n",
    "        df_offers.loc[df_pairs['offer_id1']]['eng_percentage_letters'].values,\n",
    "        df_offers.loc[df_pairs['offer_id2']]['eng_percentage_letters'].values\n",
    "    )\n",
    "]\n",
    "dots_perc = [\n",
    "    1 if max(a,b)==0 else min(a,b)/max(a,b) for a,b in zip(\n",
    "        df_offers.loc[df_pairs['offer_id1']]['dots_count'].values,\n",
    "        df_offers.loc[df_pairs['offer_id2']]['dots_count'].values\n",
    "    )\n",
    "]"
   ]
  },
  {
   "cell_type": "markdown",
   "metadata": {},
   "source": [
    "### tfidf"
   ]
  },
  {
   "cell_type": "markdown",
   "metadata": {},
   "source": [
    "Тут были разные попытки векторайзеров, выиграл символьный с ngram 1-4"
   ]
  },
  {
   "cell_type": "code",
   "execution_count": 21,
   "metadata": {},
   "outputs": [],
   "source": [
    "vectorizer24 = TfidfVectorizer(\"char\", ngram_range=(1,4), sublinear_tf=True)\n",
    "vectorizer24.fit(df_offers.txt_processed)\n",
    "\n",
    "vec1 = vectorizer24.transform(df_offers.loc[df_pairs['offer_id1']]['txt_processed'])\n",
    "vec2 = vectorizer24.transform(df_offers.loc[df_pairs['offer_id2']]['txt_processed'])\n",
    "\n",
    "cosine_tfidf_ng = 1 - cosine_similarity(vec1,vec2).diagonal()\n",
    "\n",
    "# cosine_tfidf_ng = []\n",
    "# for i in tqdm_notebook(range(vec1.shape[0])):\n",
    "#     cosine_tfidf_ng += [1 - cosine(vec1[i].todense(), vec2[i].todense())]"
   ]
  },
  {
   "cell_type": "code",
   "execution_count": 22,
   "metadata": {},
   "outputs": [],
   "source": [
    "import pickle as pkl"
   ]
  },
  {
   "cell_type": "code",
   "execution_count": 46,
   "metadata": {},
   "outputs": [],
   "source": [
    "with open('../models/vectorizer.model', 'wb') as f:\n",
    "    pkl.dump(vectorizer24, f)"
   ]
  },
  {
   "cell_type": "code",
   "execution_count": 24,
   "metadata": {},
   "outputs": [],
   "source": [
    "vectorizer_words = TfidfVectorizer(ngram_range=(1,4))\n",
    "vectorizer_words.fit(df_offers.txt_processed)\n",
    "\n",
    "vec1 = vectorizer_words.transform(df_offers.loc[df_pairs['offer_id1']]['txt_processed'])\n",
    "vec2 = vectorizer_words.transform(df_offers.loc[df_pairs['offer_id2']]['txt_processed'])"
   ]
  },
  {
   "cell_type": "code",
   "execution_count": 25,
   "metadata": {},
   "outputs": [],
   "source": [
    "cosine_tfidf_ng_words = 1 - cosine_similarity(vec1,vec2).diagonal()"
   ]
  },
  {
   "cell_type": "raw",
   "metadata": {},
   "source": [
    "cosine_tfidf_ng_words = []\n",
    "for i in tqdm_notebook(range(vec1.shape[0])):\n",
    "    cosine_tfidf_ng_words += [1 - cosine(vec1[i].todense(), vec2[i].todense())]"
   ]
  },
  {
   "cell_type": "code",
   "execution_count": 26,
   "metadata": {},
   "outputs": [],
   "source": [
    "# concat text\n",
    "df_feats_text_all = pd.DataFrame(\n",
    "    np.array([text_len, eng_perc, txt_similarity_feature, cosine_tfidf_ng]).T, \n",
    "    columns=[\"text_len\", \"eng_perc\",'txt_similarity_feature',   \"cosine_tfidf_ng\"]\n",
    ")\n"
   ]
  },
  {
   "cell_type": "code",
   "execution_count": 27,
   "metadata": {},
   "outputs": [
    {
     "data": {
      "text/plain": [
       "text_len                  0.459459\n",
       "eng_perc                  0.621849\n",
       "txt_similarity_feature    0.039052\n",
       "cosine_tfidf_ng           0.889138\n",
       "Name: 0, dtype: float64"
      ]
     },
     "execution_count": 27,
     "metadata": {},
     "output_type": "execute_result"
    }
   ],
   "source": [
    "df_feats_text_all.iloc[0]"
   ]
  },
  {
   "cell_type": "markdown",
   "metadata": {},
   "source": [
    "# 3. Building"
   ]
  },
  {
   "cell_type": "markdown",
   "metadata": {},
   "source": [
    "простые фичи по сравнению квартир"
   ]
  },
  {
   "cell_type": "code",
   "execution_count": 28,
   "metadata": {
    "scrolled": true
   },
   "outputs": [
    {
     "data": {
      "text/plain": [
       "Index(['buildYear', 'cargoLiftsCount', 'ceilingHeight', 'cranageTypes',\n",
       "       'deadline', 'extinguishingSystemTypes', 'floorsCount',\n",
       "       'hasGarbageChute', 'heatingType', 'infrastructure', 'liftTypes',\n",
       "       'materialType', 'name', 'openingHours', 'parking',\n",
       "       'passengerLiftsCount', 'series', 'totalArea'],\n",
       "      dtype='object')"
      ]
     },
     "execution_count": 28,
     "metadata": {},
     "output_type": "execute_result"
    }
   ],
   "source": [
    "df_building.columns"
   ]
  },
  {
   "cell_type": "code",
   "execution_count": 29,
   "metadata": {},
   "outputs": [],
   "source": [
    "total_area_eq = [\n",
    "    1 if abs(a-b)<=1 else 0 for a,b in zip(\n",
    "        df_building.loc[df_pairs['offer_id1']]['totalArea'].fillna(0).values,\n",
    "        df_building.loc[df_pairs['offer_id2']]['totalArea'].fillna(0).values\n",
    "    )\n",
    "]"
   ]
  },
  {
   "cell_type": "code",
   "execution_count": 30,
   "metadata": {},
   "outputs": [],
   "source": [
    "rcnt_eq = [\n",
    "    1 if a==b else 0 for a,b in zip(\n",
    "        df_offers.loc[df_pairs['offer_id1']]['roomscount'].fillna(0).values,\n",
    "        df_offers.loc[df_pairs['offer_id2']]['roomscount'].fillna(0).values\n",
    "    )\n",
    "]"
   ]
  },
  {
   "cell_type": "code",
   "execution_count": 31,
   "metadata": {},
   "outputs": [],
   "source": [
    "# concat Building\n",
    "df_feats_building_all = pd.DataFrame(\n",
    "    np.array([total_area_eq, rcnt_eq]).T, \n",
    "    columns=[\"total_area_eq\", \"rcnt_eq\"]\n",
    ")"
   ]
  },
  {
   "cell_type": "markdown",
   "metadata": {},
   "source": [
    "# 4. bargainterms"
   ]
  },
  {
   "cell_type": "code",
   "execution_count": 32,
   "metadata": {
    "scrolled": true
   },
   "outputs": [
    {
     "data": {
      "text/plain": [
       "(19266, 19)"
      ]
     },
     "execution_count": 32,
     "metadata": {},
     "output_type": "execute_result"
    }
   ],
   "source": [
    "df_bargainterms.shape"
   ]
  },
  {
   "cell_type": "code",
   "execution_count": 33,
   "metadata": {},
   "outputs": [],
   "source": [
    "deposit_rate = [\n",
    "    1 if max(a,b)==0 else min(a,b)/max(a,b) for a,b in zip(\n",
    "        df_bargainterms.loc[df_pairs['offer_id1']]['deposit'].fillna(0).values,\n",
    "        df_bargainterms.loc[df_pairs['offer_id2']]['deposit'].fillna(0).values\n",
    "    )\n",
    "]"
   ]
  },
  {
   "cell_type": "code",
   "execution_count": 34,
   "metadata": {},
   "outputs": [],
   "source": [
    "price_rate = [\n",
    "    1 if max(a,b)==0 else min(a,b)/max(a,b) for a,b in zip(\n",
    "        df_bargainterms.loc[df_pairs['offer_id1']]['price'].fillna(0).values,\n",
    "        df_bargainterms.loc[df_pairs['offer_id2']]['price'].fillna(0).values\n",
    "    )\n",
    "]"
   ]
  },
  {
   "cell_type": "code",
   "execution_count": 35,
   "metadata": {},
   "outputs": [],
   "source": [
    "df_feats_bargainterms_all = pd.DataFrame(\n",
    "    np.array([deposit_rate, price_rate]).T, \n",
    "    columns=[\"deposit_rate\", \"price_rate\"]\n",
    ")"
   ]
  },
  {
   "cell_type": "markdown",
   "metadata": {},
   "source": [
    "# CONCAT ALL"
   ]
  },
  {
   "cell_type": "code",
   "execution_count": 36,
   "metadata": {},
   "outputs": [],
   "source": [
    "df_all = pd.concat([df_feats_geo_all, df_feats_text_all, df_feats_building_all, df_feats_bargainterms_all], axis=1)"
   ]
  },
  {
   "cell_type": "code",
   "execution_count": 37,
   "metadata": {},
   "outputs": [
    {
     "data": {
      "text/plain": [
       "Index(['geo_addr_lev1', 'geo_addr_lev2', 'geo_addr_percent_intersect',\n",
       "       'geo_addr_fw', 'geo_distances', 'text_len', 'eng_perc',\n",
       "       'txt_similarity_feature', 'cosine_tfidf_ng', 'total_area_eq', 'rcnt_eq',\n",
       "       'deposit_rate', 'price_rate'],\n",
       "      dtype='object')"
      ]
     },
     "execution_count": 37,
     "metadata": {},
     "output_type": "execute_result"
    }
   ],
   "source": [
    "df_all.columns"
   ]
  },
  {
   "cell_type": "code",
   "execution_count": 38,
   "metadata": {},
   "outputs": [],
   "source": [
    "X = df_all[['geo_addr_lev1', \n",
    "            'geo_addr_lev2', \n",
    "            'geo_addr_percent_intersect',\n",
    "            'geo_addr_fw',\n",
    "            'geo_distances',\n",
    "            'text_len',\n",
    "            'eng_perc',\n",
    "            'txt_similarity_feature', \n",
    "            #'txt_similarity_feature_external',\n",
    "            'cosine_tfidf_ng',\n",
    "#             'cosine_tfidf_ng_words',\n",
    "#             'deposit_rate',\n",
    "            'price_rate',\n",
    "            'total_area_eq',\n",
    "            'rcnt_eq'\n",
    "           ]]#.fillna(0) # \n",
    "# X = df_all\n",
    "y = np.array(df_pairs.resolution)"
   ]
  },
  {
   "cell_type": "code",
   "execution_count": 39,
   "metadata": {
    "scrolled": false
   },
   "outputs": [
    {
     "data": {
      "text/plain": [
       "<matplotlib.axes._subplots.AxesSubplot at 0x7f51c3896c10>"
      ]
     },
     "execution_count": 39,
     "metadata": {},
     "output_type": "execute_result"
    },
    {
     "data": {
      "image/png": "[encoded data removed]",
      "text/plain": [
       "<Figure size 432x288 with 2 Axes>"
      ]
     },
     "metadata": {
      "needs_background": "light"
     },
     "output_type": "display_data"
    }
   ],
   "source": [
    "cor = X.corr()\n",
    "\n",
    "# plot the heatmap\n",
    "import seaborn as sns\n",
    "sns.heatmap(cor, cmap = sns.diverging_palette(220, 10, as_cmap=True))"
   ]
  },
  {
   "cell_type": "markdown",
   "metadata": {},
   "source": [
    "# Model "
   ]
  },
  {
   "cell_type": "code",
   "execution_count": 40,
   "metadata": {},
   "outputs": [],
   "source": [
    "from sklearn.model_selection import StratifiedKFold, GridSearchCV, KFold\n",
    "from sklearn.model_selection import cross_val_score\n",
    "from sklearn.metrics import precision_recall_curve, plot_precision_recall_curve\n",
    "from sklearn.metrics import precision_recall_fscore_support, classification_report, precision_score, recall_score\n",
    "import matplotlib.pyplot as plt\n",
    "%matplotlib inline\n",
    "import xgboost as xgb\n",
    "from sklearn.linear_model import LogisticRegression"
   ]
  },
  {
   "cell_type": "raw",
   "metadata": {},
   "source": [
    "# тут был гридсёрч\n",
    "\n",
    "model = xgb.XGBClassifier()\n",
    "parameters = {'nthread':[-1],\n",
    "              'objective':['binary:logistic'],\n",
    "              'learning_rate': [0.05, 0.01],\n",
    "              'max_depth': [3,5,8,10,12],\n",
    "              'min_child_weight': [1, 3, 7],\n",
    "              'subsample': [0.8],\n",
    "              'colsample_bytree': [0,7, 0.8, 1],\n",
    "              'lambda':[0, 0.5, 1, 1.5, 2],\n",
    "              'alpha': [1, 5, 6,8,10],\n",
    "              'n_estimators': [300], \n",
    "#               'missing':[-999]\n",
    "              }\n",
    "\n",
    "\n",
    "clf = GridSearchCV(model, parameters, n_jobs=8, \n",
    "                   cv=KFold(shuffle=True), \n",
    "                   scoring='precision',\n",
    "                   verbose=10, refit=True)\n",
    "\n",
    "clf.fit(X, y)"
   ]
  },
  {
   "cell_type": "code",
   "execution_count": 42,
   "metadata": {
    "scrolled": false
   },
   "outputs": [
    {
     "name": "stdout",
     "output_type": "stream",
     "text": [
      "              precision    recall  f1-score   support\n",
      "\n",
      "           0       0.52      0.64      0.57       610\n",
      "           1       0.82      0.74      0.78      1390\n",
      "\n",
      "    accuracy                           0.71      2000\n",
      "   macro avg       0.67      0.69      0.68      2000\n",
      "weighted avg       0.73      0.71      0.72      2000\n",
      "\n",
      "              precision    recall  f1-score   support\n",
      "\n",
      "           0       0.51      0.62      0.56       623\n",
      "           1       0.81      0.73      0.77      1377\n",
      "\n",
      "    accuracy                           0.70      2000\n",
      "   macro avg       0.66      0.68      0.66      2000\n",
      "weighted avg       0.72      0.70      0.70      2000\n",
      "\n",
      "              precision    recall  f1-score   support\n",
      "\n",
      "           0       0.50      0.63      0.55       604\n",
      "           1       0.82      0.72      0.77      1396\n",
      "\n",
      "    accuracy                           0.69      2000\n",
      "   macro avg       0.66      0.68      0.66      2000\n",
      "weighted avg       0.72      0.69      0.70      2000\n",
      "\n",
      "              precision    recall  f1-score   support\n",
      "\n",
      "           0       0.54      0.61      0.58       649\n",
      "           1       0.80      0.75      0.78      1351\n",
      "\n",
      "    accuracy                           0.71      2000\n",
      "   macro avg       0.67      0.68      0.68      2000\n",
      "weighted avg       0.72      0.71      0.71      2000\n",
      "\n",
      "              precision    recall  f1-score   support\n",
      "\n",
      "           0       0.54      0.64      0.58       628\n",
      "           1       0.82      0.75      0.78      1372\n",
      "\n",
      "    accuracy                           0.71      2000\n",
      "   macro avg       0.68      0.69      0.68      2000\n",
      "weighted avg       0.73      0.71      0.72      2000\n",
      "\n",
      "mean precision: 0.81 mean recall: 0.74\n"
     ]
    },
    {
     "data": {
      "text/plain": [
       "<Figure size 1296x936 with 0 Axes>"
      ]
     },
     "metadata": {},
     "output_type": "display_data"
    },
    {
     "data": {
      "image/png": "[encoded data removed]",
      "text/plain": [
       "<Figure size 432x288 with 1 Axes>"
      ]
     },
     "metadata": {
      "needs_background": "light"
     },
     "output_type": "display_data"
    },
    {
     "data": {
      "image/png": "[encoded data removed]",
      "text/plain": [
       "<Figure size 432x288 with 1 Axes>"
      ]
     },
     "metadata": {
      "needs_background": "light"
     },
     "output_type": "display_data"
    },
    {
     "data": {
      "image/png": "[encoded data removed]",
      "text/plain": [
       "<Figure size 432x288 with 1 Axes>"
      ]
     },
     "metadata": {
      "needs_background": "light"
     },
     "output_type": "display_data"
    },
    {
     "data": {
      "image/png": "[encoded data removed]",
      "text/plain": [
       "<Figure size 432x288 with 1 Axes>"
      ]
     },
     "metadata": {
      "needs_background": "light"
     },
     "output_type": "display_data"
    },
    {
     "data": {
      "image/png": "[encoded data removed]",
      "text/plain": [
       "<Figure size 432x288 with 1 Axes>"
      ]
     },
     "metadata": {
      "needs_background": "light"
     },
     "output_type": "display_data"
    }
   ],
   "source": [
    "\n",
    "# CV model\n",
    "model = xgb.XGBClassifier(\n",
    "    colsample_bytree = 0.8,\n",
    "    subsample = 0.8,\n",
    "    objective='binary:logistic', \n",
    "    n_estimators=500, \n",
    "    max_depth=8,\n",
    "    reg_alpha = 6\n",
    ")\n",
    "\n",
    "kfold = StratifiedKFold(n_splits=5, random_state=42)\n",
    "\n",
    "prs = []\n",
    "rcs = []\n",
    "\n",
    "mean_recall = np.linspace(0, 1, 100)\n",
    "\n",
    "plt.figure(figsize=(18 , 13))\n",
    "kfold = KFold(n_splits=5, random_state=7)\n",
    "i = 0\n",
    "for train, test in kfold.split(X, y):\n",
    "  \n",
    "    model.fit(X.loc[train], y[train])\n",
    "    probas = model.predict_proba(X.loc[test])\n",
    "#     y_pred = model.predict(X.loc[test])\n",
    "    y_pred = (probas[:,1]>0.65).astype(int)\n",
    "    print(classification_report(y[test], y_pred))\n",
    "    prs += [precision_score(y[test], y_pred)]\n",
    "    rcs += [recall_score(y[test], y_pred)]\n",
    "#     print(precision_recall_curve(y[test], probas[:,1]))\n",
    "    disp = plot_precision_recall_curve(model, X.loc[test], y[test])\n",
    "    disp.ax_.set_title('2-class Precision-Recall curve: '\n",
    "                       'Pr={0:0.2f}, R={0:0.2f}'.format(prs[i], rcs[i]))\n",
    "    i += 1\n",
    "    \n",
    "print('mean precision: {0:0.2f}'.format(np.mean(prs)), 'mean recall: {0:0.2f}'.format(np.mean(rcs)))"
   ]
  },
  {
   "cell_type": "markdown",
   "metadata": {},
   "source": [
    "### Результат\n",
    "\n",
    "при пороге 0.65\n",
    "\n",
    "* mean precision: 0.82\n",
    "* mean recall: 0.75"
   ]
  },
  {
   "cell_type": "code",
   "execution_count": 43,
   "metadata": {},
   "outputs": [
    {
     "data": {
      "text/plain": [
       "XGBClassifier(base_score=0.5, booster='gbtree', colsample_bylevel=1,\n",
       "              colsample_bynode=1, colsample_bytree=0.8, gamma=0, gpu_id=-1,\n",
       "              importance_type='gain', interaction_constraints='',\n",
       "              learning_rate=0.300000012, max_delta_step=0, max_depth=8,\n",
       "              min_child_weight=1, missing=nan, monotone_constraints='()',\n",
       "              n_estimators=500, n_jobs=0, num_parallel_tree=1,\n",
       "              objective='binary:logistic', random_state=0, reg_alpha=6,\n",
       "              reg_lambda=1, scale_pos_weight=1, subsample=0.8,\n",
       "              tree_method='exact', validate_parameters=1, verbosity=None)"
      ]
     },
     "execution_count": 43,
     "metadata": {},
     "output_type": "execute_result"
    }
   ],
   "source": [
    "model.fit(X,y)"
   ]
  },
  {
   "cell_type": "code",
   "execution_count": 45,
   "metadata": {},
   "outputs": [],
   "source": [
    "model.save_model('../models/xgb.model')"
   ]
  },
  {
   "cell_type": "code",
   "execution_count": null,
   "metadata": {},
   "outputs": [],
   "source": []
  }
 ],
 "metadata": {
  "kernelspec": {
   "display_name": "Python 3",
   "language": "python",
   "name": "python3"
  },
  "language_info": {
   "codemirror_mode": {
    "name": "ipython",
    "version": 3
   },
   "file_extension": ".py",
   "mimetype": "text/x-python",
   "name": "python",
   "nbconvert_exporter": "python",
   "pygments_lexer": "ipython3",
   "version": "3.7.6"
  }
 },
 "nbformat": 4,
 "nbformat_minor": 2
}
